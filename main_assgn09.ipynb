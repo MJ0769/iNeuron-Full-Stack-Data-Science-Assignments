{
  "nbformat": 4,
  "nbformat_minor": 0,
  "metadata": {
    "colab": {
      "provenance": [],
      "authorship_tag": "ABX9TyNphlR/fACNUBqObJX4zDvD",
      "include_colab_link": true
    },
    "kernelspec": {
      "name": "python3",
      "display_name": "Python 3"
    },
    "language_info": {
      "name": "python"
    }
  },
  "cells": [
    {
      "cell_type": "markdown",
      "metadata": {
        "id": "view-in-github",
        "colab_type": "text"
      },
      "source": [
        "<a href=\"https://colab.research.google.com/github/MJ0769/iNeuron-Full-Stack-Data-Science-Assignments/blob/main/main_assgn09.ipynb\" target=\"_parent\"><img src=\"https://colab.research.google.com/assets/colab-badge.svg\" alt=\"Open In Colab\"/></a>"
      ]
    },
    {
      "cell_type": "markdown",
      "source": [
        "Assignment 9 Solutions\n",
        "1.To what does a relative path refer ?\n",
        "\n",
        "Ans: The relative path is the path to some file with respect to your current working directory (PWD).\n",
        "For example: if Absolute path to a file called stuff.txt is: C:/users/admin/docs/stuff.txt If my PWD is C:/users/admin/ , then the relative path to stuff.txt would be: docs/stuff.txt\n",
        "Note: PWD + relative path = absolute path\n",
        "\n",
        "2.Where does an absolute path start with your Operating System ?\n",
        "\n",
        "Ans: In Linux based systems the absolute path starts with /. Where as in Windows based systems absolute path starts with C:\n",
        "\n",
        "3.What does the functions os.getcwd() and os.chdir() do ?\n",
        "\n",
        "Ans: os.getcwd() method tells us the location of current working directory (CWD). Whereas os.chdir() method in Python used to change the current working directory to specified path. These functions are similar to linux commands pwd and cd"
      ],
      "metadata": {
        "id": "-N6glz23j0yv"
      }
    },
    {
      "cell_type": "code",
      "source": [
        "import os\n",
        "print(os.getcwd()) # Prints the current Working Directory\n",
        "path = r'C:\\Users\\mj.adepu\\Documents'\n",
        "os.chdir(path)\n",
        "print(os.getcwd())"
      ],
      "metadata": {
        "colab": {
          "base_uri": "https://localhost:8080/",
          "height": 235
        },
        "id": "rNEl_loUj5jZ",
        "outputId": "2b0559be-8168-4fe0-ead4-5c3b455dca74"
      },
      "execution_count": 2,
      "outputs": [
        {
          "output_type": "stream",
          "name": "stdout",
          "text": [
            "/content\n"
          ]
        },
        {
          "output_type": "error",
          "ename": "FileNotFoundError",
          "evalue": "ignored",
          "traceback": [
            "\u001b[0;31m---------------------------------------------------------------------------\u001b[0m",
            "\u001b[0;31mFileNotFoundError\u001b[0m                         Traceback (most recent call last)",
            "\u001b[0;32m<ipython-input-2-8edf42346e73>\u001b[0m in \u001b[0;36m<cell line: 4>\u001b[0;34m()\u001b[0m\n\u001b[1;32m      2\u001b[0m \u001b[0mprint\u001b[0m\u001b[0;34m(\u001b[0m\u001b[0mos\u001b[0m\u001b[0;34m.\u001b[0m\u001b[0mgetcwd\u001b[0m\u001b[0;34m(\u001b[0m\u001b[0;34m)\u001b[0m\u001b[0;34m)\u001b[0m \u001b[0;31m# Prints the current Working Directory\u001b[0m\u001b[0;34m\u001b[0m\u001b[0;34m\u001b[0m\u001b[0m\n\u001b[1;32m      3\u001b[0m \u001b[0mpath\u001b[0m \u001b[0;34m=\u001b[0m \u001b[0;34mr'C:\\Users\\mj.adepu\\Documents'\u001b[0m\u001b[0;34m\u001b[0m\u001b[0;34m\u001b[0m\u001b[0m\n\u001b[0;32m----> 4\u001b[0;31m \u001b[0mos\u001b[0m\u001b[0;34m.\u001b[0m\u001b[0mchdir\u001b[0m\u001b[0;34m(\u001b[0m\u001b[0mpath\u001b[0m\u001b[0;34m)\u001b[0m\u001b[0;34m\u001b[0m\u001b[0;34m\u001b[0m\u001b[0m\n\u001b[0m\u001b[1;32m      5\u001b[0m \u001b[0mprint\u001b[0m\u001b[0;34m(\u001b[0m\u001b[0mos\u001b[0m\u001b[0;34m.\u001b[0m\u001b[0mgetcwd\u001b[0m\u001b[0;34m(\u001b[0m\u001b[0;34m)\u001b[0m\u001b[0;34m)\u001b[0m\u001b[0;34m\u001b[0m\u001b[0;34m\u001b[0m\u001b[0m\n",
            "\u001b[0;31mFileNotFoundError\u001b[0m: [Errno 2] No such file or directory: 'C:\\\\Users\\\\mj.adepu\\\\Documents'"
          ]
        }
      ]
    },
    {
      "cell_type": "markdown",
      "source": [
        "4.What are . and .. folders ?\n",
        "\n",
        "Ans: . Represents the Current Directory Whereas .. Represents the Parent Directory of the Current Directory\n",
        "For Example: if the below path is my absolute path:\n",
        "C:\\\\Users\\\\vishnu\\\\Documents\\\\iNeuron-Assignments\\\\Python Basic Assignment\n",
        "Then . represents the path C:\\\\Users\\\\vishnu\\\\Documents\\\\iNeuron-Assignments\\\\Python Basic Assignment\n",
        "Where as .. represents the path C:\\\\Users\\\\vishnu\\\\Documents\\\\iNeuron-Assignments\n",
        "\n",
        "5.In C:\\bacon\\eggs\\spam.txt which part is the dir name and which part is the base name ?\n",
        "\n",
        "Ans: For C:\\bacon\\eggs\\spam.txt\n",
        "The dir name is C:\\\\bacon\\\\eggs\n",
        "The Base name is spam.txt"
      ],
      "metadata": {
        "id": "8yr1aOy9kAn-"
      }
    },
    {
      "cell_type": "code",
      "source": [
        "import os\n",
        "path = r'C:\\bacon\\eggs\\spam.txt'\n",
        "print(os.path.dirname(path))\n",
        "print(os.path.basename(path))"
      ],
      "metadata": {
        "colab": {
          "base_uri": "https://localhost:8080/"
        },
        "id": "-ohHn5lhj8Sv",
        "outputId": "fa99c349-1389-4101-b92a-98fe6b85380f"
      },
      "execution_count": 3,
      "outputs": [
        {
          "output_type": "stream",
          "name": "stdout",
          "text": [
            "\n",
            "C:\\bacon\\eggs\\spam.txt\n"
          ]
        }
      ]
    },
    {
      "cell_type": "markdown",
      "source": [
        "6.What are the three mode arguments that can be passed to the open() function ?\n",
        "\n",
        "Ans: A file can be Accessed in python using open() function. open function takes two arguments filename and mode of operation (optional). if mode is not provided the default mode of opening is read mode\n",
        "So, the syntax being: open(filename, mode)\n",
        "\n",
        "‘r’ – Read Mode: This is the default mode for open(). The file is opened and a pointer is positioned at the beginning of the file’s content.\n",
        "‘w’ – Write Mode: Using this mode will overwrite any existing content in a file. If the given file does not exist, a new one will be created.\n",
        "‘r+’ – Read/Write Mode: Use this mode if you need to simultaneously read and write to a file.\n",
        "‘a’ – Append Mode: With this mode the user can append the data without overwriting any already existing data in the file.\n",
        "‘a+’ – Append and Read Mode: In this mode you can read and append the data without overwriting the original file.\n",
        "‘x’ – Exclusive Creating Mode: This mode is for the sole purpose of creating new files. Use this mode if you know the file to be written doesn’t exist beforehand.\n",
        "7.What happens if an existing file is opened in write mode ?\n",
        "\n",
        "Ans: Using this mode will overwrite any existing content in a file. If the given file does not exist, a new one will be created.\n",
        "\n",
        "8.How do you tell the difference between read() and readlines() ?\n",
        "\n",
        "Ans: The main difference is that read() will read the whole file at once and then print out the first characters that take up as many bytes as you specify in the parenthesis\n",
        "\n",
        "Whereas the readline() that will read and print out only the first characters that take up as many bytes as you specify in the parenthesis. You may want to use readline() when you're reading files that are too big for your RAM.\n",
        "The read() would treat each character in the file separately, meaning that the iteration would happen for every character.\n",
        "The readline() function, on the other hand, only reads a single line of the file. This means that if the first line of the file were three lines long, the readline() function would only parse (or iterate/operate) on the first line of the file.\n",
        "9.What data structure does a shelf value resemble ?\n",
        "\n",
        "Ans: it contains key and values it represents dictionary."
      ],
      "metadata": {
        "id": "oEoci9TKkbnZ"
      }
    },
    {
      "cell_type": "code",
      "source": [],
      "metadata": {
        "id": "oNkydE4ikXBp"
      },
      "execution_count": null,
      "outputs": []
    }
  ]
}